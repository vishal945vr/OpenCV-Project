{
 "cells": [
  {
   "cell_type": "markdown",
   "metadata": {},
   "source": [
    "#Face Detection Using Python(Open CV)"
   ]
  },
  {
   "cell_type": "code",
   "execution_count": null,
   "metadata": {},
   "outputs": [],
   "source": [
    "# import OpenCV\n",
    "import cv2\n",
    "#import excel file for face detection \n",
    "face=cv2.CascadeClassifier(\"C:\\Users\\vrooo\\OneDrive\\Desktop\\coding\\pythonhaarcascade_frontalface_default.xlm\")\n",
    "# using for viedo\n",
    "viedo_cap=cv2.VideoCapture(0)\n",
    "while True:\n",
    "    ret,viedo=viedo_cap.read()\n",
    "    # color chage for face\n",
    "    col=cv2.cvtColor(viedo,cv2.COLOR_BGR2GRAY)\n",
    "    # This function use to face muscels detection \n",
    "    faces=face.detectMultiScale(\n",
    "        col,scaleFactor=1.1,\n",
    "        minNeighbors=5,\n",
    "        minSize=(30,30),\n",
    "        flags=cv2.CASCADE_SCALE_IMAGE\n",
    "    )\n",
    "    #face rectangle box \n",
    "    for(x,y,w,h) in face:\n",
    "        cv2.rectangle(viedo,(x,y),(x+w,y+h),(0,235,9),2)\n",
    "#show the viedo \n",
    "    cv2.imshow(\"viedo live\",viedo)\n",
    "    # time for viedo\n",
    "    if cv2.waitKey(10)==ord(\"a\"):\n",
    "        break\n",
    "    #relase the viedo for your system\n",
    "viedo_cap.release()\n"
   ]
  }
 ],
 "metadata": {
  "kernelspec": {
   "display_name": "Python 3",
   "language": "python",
   "name": "python3"
  },
  "language_info": {
   "codemirror_mode": {
    "name": "ipython",
    "version": 3
   },
   "file_extension": ".py",
   "mimetype": "text/x-python",
   "name": "python",
   "nbconvert_exporter": "python",
   "pygments_lexer": "ipython3",
   "version": "3.11.9"
  }
 },
 "nbformat": 4,
 "nbformat_minor": 2
}
